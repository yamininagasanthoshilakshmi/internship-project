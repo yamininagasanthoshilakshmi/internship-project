{
  "nbformat": 4,
  "nbformat_minor": 0,
  "metadata": {
    "colab": {
      "provenance": []
    },
    "kernelspec": {
      "name": "python3",
      "display_name": "Python 3"
    },
    "language_info": {
      "name": "python"
    }
  },
  "cells": [
    {
      "cell_type": "code",
      "source": [
        "import pandas as pd\n",
        "import numpy as np\n",
        "from sklearn.model_selection import train_test_split\n",
        "from sklearn.preprocessing import StandardScaler\n",
        "from sklearn.ensemble import RandomForestClassifier\n",
        "from sklearn.metrics import classification_report\n",
        "from imblearn.over_sampling import SMOTE\n",
        "\n",
        "# Simulate a dataset\n",
        "np.random.seed(42)\n",
        "\n",
        "# Simulating a credit card transaction dataset with fraud detection as the goal\n",
        "data = {\n",
        "    'Time': np.random.rand(1000) * 1000,  # Simulated time features\n",
        "    'V1': np.random.randn(1000),\n",
        "    'V2': np.random.randn(1000),\n",
        "    'V3': np.random.randn(1000),\n",
        "    'V4': np.random.randn(1000),\n",
        "    'V5': np.random.randn(1000),\n",
        "    'Amount': np.random.rand(1000) * 5000,  # Transaction amount\n",
        "    'Class': np.random.choice([0, 1], size=1000, p=[0.95, 0.05])  # Fraud label (0 - no fraud, 1 - fraud)\n",
        "}\n",
        "\n",
        "df = pd.DataFrame(data)\n",
        "\n",
        "# Show the first few rows\n",
        "print(df.head())\n"
      ],
      "metadata": {
        "colab": {
          "base_uri": "https://localhost:8080/"
        },
        "id": "QTny3QgwNJFm",
        "outputId": "b481aeb9-85bb-4bce-88d5-908705d90eab"
      },
      "execution_count": 18,
      "outputs": [
        {
          "output_type": "stream",
          "name": "stdout",
          "text": [
            "         Time        V1        V2        V3        V4        V5       Amount  \\\n",
            "0  374.540119  0.177701 -1.406317  0.874517 -0.150320  0.279084  1761.544421   \n",
            "1  950.714306 -1.335344 -0.083106 -0.649765 -0.326696  0.291564  1170.288875   \n",
            "2  731.993942  0.380198 -1.504720 -1.203201 -1.042578 -1.690672   248.905008   \n",
            "3  598.658484  0.610586  0.760056 -1.042044 -1.172234 -0.978500  1342.500381   \n",
            "4  156.018640  0.559790  0.082440 -0.487203  0.464370  2.755218  3271.178900   \n",
            "\n",
            "   Class  \n",
            "0      0  \n",
            "1      0  \n",
            "2      0  \n",
            "3      0  \n",
            "4      0  \n"
          ]
        }
      ]
    },
    {
      "cell_type": "code",
      "source": [
        "# Split the data into features (X) and target (y)\n",
        "X = df.drop('Class', axis=1)\n",
        "y = df['Class']\n",
        "\n",
        "# Standardize the features using StandardScaler\n",
        "scaler = StandardScaler()\n",
        "X_scaled = scaler.fit_transform(X)\n",
        "\n",
        "# Split the dataset into training and testing sets (80% - 20% split)\n",
        "X_train, X_test, y_train, y_test = train_test_split(X_scaled, y, test_size=0.2, random_state=42)\n",
        "\n",
        "# Handle class imbalance using SMOTE (Synthetic Minority Oversampling Technique)\n",
        "smote = SMOTE(sampling_strategy='auto', random_state=42)\n",
        "X_train_resampled, y_train_resampled = smote.fit_resample(X_train, y_train)\n",
        "\n",
        "# Show the resampled class distribution\n",
        "print(f\"Original class distribution in y_train: {y_train.value_counts()}\")\n",
        "print(f\"Resampled class distribution in y_train: {y_train_resampled.value_counts()}\")\n"
      ],
      "metadata": {
        "colab": {
          "base_uri": "https://localhost:8080/"
        },
        "id": "jCYhOUxxNOdv",
        "outputId": "b324903f-7999-4d81-8051-b3cc406e75d9"
      },
      "execution_count": 19,
      "outputs": [
        {
          "output_type": "stream",
          "name": "stdout",
          "text": [
            "Original class distribution in y_train: Class\n",
            "0    765\n",
            "1     35\n",
            "Name: count, dtype: int64\n",
            "Resampled class distribution in y_train: Class\n",
            "0    765\n",
            "1    765\n",
            "Name: count, dtype: int64\n"
          ]
        }
      ]
    },
    {
      "cell_type": "code",
      "source": [
        "# Instantiate the RandomForestClassifier\n",
        "rf_model = RandomForestClassifier(random_state=42)\n",
        "\n",
        "# Train the model on the resampled data\n",
        "rf_model.fit(X_train_resampled, y_train_resampled)\n",
        "\n",
        "# Make predictions on the test set\n",
        "y_pred = rf_model.predict(X_test)\n",
        "\n",
        "# Evaluate the model's performance\n",
        "print(\"Classification Report:\")\n",
        "print(classification_report(y_test, y_pred))\n"
      ],
      "metadata": {
        "colab": {
          "base_uri": "https://localhost:8080/"
        },
        "id": "DM6-ayU1NQ5y",
        "outputId": "a286491d-c326-4aa3-fe64-eaf0df6dca98"
      },
      "execution_count": 20,
      "outputs": [
        {
          "output_type": "stream",
          "name": "stdout",
          "text": [
            "Classification Report:\n",
            "              precision    recall  f1-score   support\n",
            "\n",
            "           0       0.98      0.91      0.94       194\n",
            "           1       0.11      0.33      0.16         6\n",
            "\n",
            "    accuracy                           0.90       200\n",
            "   macro avg       0.54      0.62      0.55       200\n",
            "weighted avg       0.95      0.90      0.92       200\n",
            "\n"
          ]
        }
      ]
    },
    {
      "cell_type": "code",
      "source": [
        "import pandas as pd\n",
        "import numpy as np\n",
        "from sklearn.model_selection import train_test_split\n",
        "from sklearn.preprocessing import StandardScaler\n",
        "from sklearn.ensemble import RandomForestClassifier\n",
        "from sklearn.metrics import classification_report\n",
        "from imblearn.over_sampling import SMOTE\n",
        "\n",
        "# Simulating data\n",
        "np.random.seed(42)\n",
        "data = {\n",
        "    'Time': np.random.rand(1000) * 1000,\n",
        "    'V1': np.random.randn(1000),\n",
        "    'V2': np.random.randn(1000),\n",
        "    'V3': np.random.randn(1000),\n",
        "    'V4': np.random.randn(1000),\n",
        "    'V5': np.random.randn(1000),\n",
        "    'Amount': np.random.rand(1000) * 5000,\n",
        "    'Class': np.random.choice([0, 1], size=1000, p=[0.95, 0.05])  # Imbalanced classes\n",
        "}\n",
        "df = pd.DataFrame(data)\n",
        "\n",
        "# Preprocessing\n",
        "X = df.drop('Class', axis=1)\n",
        "y = df['Class']\n",
        "scaler = StandardScaler()\n",
        "X_scaled = scaler.fit_transform(X)\n",
        "X_train, X_test, y_train, y_test = train_test_split(X_scaled, y, test_size=0.2, random_state=42)\n",
        "\n",
        "# Handle class imbalance using SMOTE\n",
        "smote = SMOTE(sampling_strategy='auto', random_state=42)\n",
        "X_train_resampled, y_train_resampled = smote.fit_resample(X_train, y_train)\n",
        "\n",
        "# Train the RandomForest model\n",
        "rf_model = RandomForestClassifier(random_state=42)\n",
        "rf_model.fit(X_train_resampled, y_train_resampled)\n",
        "\n",
        "# Predictions and Evaluation\n",
        "y_pred = rf_model.predict(X_test)\n",
        "print(\"Classification Report:\")\n",
        "print(classification_report(y_test, y_pred))\n"
      ],
      "metadata": {
        "colab": {
          "base_uri": "https://localhost:8080/"
        },
        "id": "b-j4wD3yNUxv",
        "outputId": "f7956618-9f63-4b94-d059-7b06eeb17569"
      },
      "execution_count": 21,
      "outputs": [
        {
          "output_type": "stream",
          "name": "stdout",
          "text": [
            "Classification Report:\n",
            "              precision    recall  f1-score   support\n",
            "\n",
            "           0       0.98      0.91      0.94       194\n",
            "           1       0.11      0.33      0.16         6\n",
            "\n",
            "    accuracy                           0.90       200\n",
            "   macro avg       0.54      0.62      0.55       200\n",
            "weighted avg       0.95      0.90      0.92       200\n",
            "\n"
          ]
        }
      ]
    }
  ]
}