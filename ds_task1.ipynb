{
  "nbformat": 4,
  "nbformat_minor": 0,
  "metadata": {
    "colab": {
      "provenance": []
    },
    "kernelspec": {
      "name": "python3",
      "display_name": "Python 3"
    },
    "language_info": {
      "name": "python"
    }
  },
  "cells": [
    {
      "cell_type": "code",
      "execution_count": null,
      "metadata": {
        "colab": {
          "base_uri": "https://localhost:8080/"
        },
        "id": "pjiVA16yA4Db",
        "outputId": "7bab7e03-6a3f-4b84-b157-87977afc8dd5"
      },
      "outputs": [
        {
          "output_type": "stream",
          "name": "stdout",
          "text": [
            "   SquareFootage  Bedrooms   Price\n",
            "0           1500         3  300000\n",
            "1           2000         4  400000\n",
            "2           1800         3  350000\n",
            "3           2500         4  500000\n",
            "4           1700         2  280000\n",
            "Linear Regression Mean Squared Error: 537438318.2900218\n",
            "Decision Tree Mean Squared Error: 1450000000.0\n",
            "Linear Regression performs better.\n"
          ]
        }
      ],
      "source": [
        "# Importing necessary libraries\n",
        "import pandas as pd\n",
        "import numpy as np\n",
        "from sklearn.model_selection import train_test_split\n",
        "from sklearn.linear_model import LinearRegression\n",
        "from sklearn.tree import DecisionTreeRegressor\n",
        "from sklearn.metrics import mean_squared_error\n",
        "from sklearn.preprocessing import StandardScaler\n",
        "from sklearn.impute import SimpleImputer\n",
        "data = pd.read_csv('housing1.csv')\n",
        "\n",
        "# Inspect the dataset\n",
        "print(data.head())\n",
        "\n",
        "# Separate features and target variable\n",
        "X = data[['SquareFootage', 'Bedrooms']]  # Features\n",
        "y = data['Price']\n",
        "imputer = SimpleImputer(strategy='mean')\n",
        "X = imputer.fit_transform(X)\n",
        "scaler = StandardScaler()\n",
        "X = scaler.fit_transform(X)\n",
        "X_train, X_test, y_train, y_test = train_test_split(X, y, test_size=0.2, random_state=42)\n",
        "\n",
        "# Train the model using Linear Regression\n",
        "linear_model = LinearRegression()\n",
        "linear_model.fit(X_train, y_train)\n",
        "\n",
        "# Train the model using Decision Tree Regressor\n",
        "tree_model = DecisionTreeRegressor(random_state=42)\n",
        "tree_model.fit(X_train, y_train)\n",
        "\n",
        "# Evaluate the Linear Regression model\n",
        "y_pred_linear = linear_model.predict(X_test)\n",
        "mse_linear = mean_squared_error(y_test, y_pred_linear)\n",
        "print(f\"Linear Regression Mean Squared Error: {mse_linear}\")\n",
        "\n",
        "# Evaluate the Decision Tree model\n",
        "y_pred_tree = tree_model.predict(X_test)\n",
        "mse_tree = mean_squared_error(y_test, y_pred_tree)\n",
        "print(f\"Decision Tree Mean Squared Error: {mse_tree}\")\n",
        "\n",
        "# Select the better model based on MSE\n",
        "if mse_linear < mse_tree:\n",
        "    print(\"Linear Regression performs better.\")\n",
        "else:\n",
        "    print(\"Decision Tree Regressor performs better.\")\n"
      ]
    },
    {
      "cell_type": "markdown",
      "source": [
        "# New Section"
      ],
      "metadata": {
        "id": "ysc973WOq1q2"
      }
    }
  ]
}