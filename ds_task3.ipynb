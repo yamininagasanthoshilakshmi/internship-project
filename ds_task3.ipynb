{
  "nbformat": 4,
  "nbformat_minor": 0,
  "metadata": {
    "colab": {
      "provenance": []
    },
    "kernelspec": {
      "name": "python3",
      "display_name": "Python 3"
    },
    "language_info": {
      "name": "python"
    }
  },
  "cells": [
    {
      "cell_type": "code",
      "source": [
        "\n",
        "import pandas as pd\n",
        "import numpy as np\n",
        "from sklearn.model_selection import train_test_split\n",
        "from sklearn.preprocessing import StandardScaler, LabelEncoder\n",
        "from sklearn.ensemble import RandomForestClassifier\n",
        "from sklearn.linear_model import LogisticRegression\n",
        "from sklearn.metrics import classification_report, accuracy_score, precision_score, recall_score, f1_score\n",
        "\n",
        "# Sample dataset (replace with your actual dataset)\n",
        "data = {\n",
        "    'Age': [25, 45, 22, 35, 29, 34, 50, 28, 40, 32],\n",
        "    'Department': ['Sales', 'HR', 'IT', 'Sales', 'IT', 'HR', 'IT', 'Sales', 'HR', 'IT'],\n",
        "    'YearsAtCompany': [1, 10, 2, 5, 3, 7, 15, 2, 8, 4],\n",
        "    'Salary': [40000, 80000, 45000, 60000, 50000, 75000, 90000, 42000, 70000, 62000],\n",
        "    'LeftCompany': [0, 1, 0, 0, 0, 1, 1, 0, 1, 0]  # Target variable: 1 = Left, 0 = Stayed\n",
        "}\n",
        "\n",
        "# Convert to a DataFrame\n",
        "df = pd.DataFrame(data)\n",
        "\n",
        "# Inspect the dataset\n",
        "print(\"Dataset Overview:\")\n",
        "print(df.head())\n",
        "\n",
        "# Preprocess the dataset\n",
        "# Encode categorical variables\n",
        "encoder = LabelEncoder()\n",
        "df['Department'] = encoder.fit_transform(df['Department'])\n",
        "\n",
        "# Separate features and target\n",
        "X = df.drop('LeftCompany', axis=1)\n",
        "y = df['LeftCompany']\n",
        "\n",
        "# Split the data into training and testing sets\n",
        "X_train, X_test, y_train, y_test = train_test_split(X, y, test_size=0.2, random_state=42)\n",
        "\n",
        "# Scale numerical features\n",
        "scaler = StandardScaler()\n",
        "X_train = scaler.fit_transform(X_train)\n",
        "X_test = scaler.transform(X_test)\n",
        "\n",
        "# Train a Random Forest Classifier\n",
        "rf_model = RandomForestClassifier(random_state=42)\n",
        "rf_model.fit(X_train, y_train)\n",
        "\n",
        "# Train a Logistic Regression Classifier\n",
        "lr_model = LogisticRegression(random_state=42)\n",
        "lr_model.fit(X_train, y_train)\n",
        "\n",
        "# Evaluate both models\n",
        "def evaluate_model(model, X_test, y_test, model_name):\n",
        "    y_pred = model.predict(X_test)\n",
        "    print(f\"Evaluation Metrics for {model_name}:\")\n",
        "    print(f\"Accuracy: {accuracy_score(y_test, y_pred):.2f}\")\n",
        "    print(f\"Precision: {precision_score(y_test, y_pred):.2f}\")\n",
        "    print(f\"Recall: {recall_score(y_test, y_pred):.2f}\")\n",
        "    print(f\"F1 Score: {f1_score(y_test, y_pred):.2f}\")\n",
        "    print(classification_report(y_test, y_pred))\n",
        "\n",
        "# Evaluate Random Forest\n",
        "evaluate_model(rf_model, X_test, y_test, \"Random Forest\")\n",
        "\n",
        "# Evaluate Logistic Regression\n",
        "evaluate_model(lr_model, X_test, y_test, \"Logistic Regression\")\n",
        "import pandas as pd"
      ],
      "metadata": {
        "colab": {
          "base_uri": "https://localhost:8080/",
          "height": 106
        },
        "id": "TDlidnxvw2NL",
        "outputId": "c9ebd721-5778-45df-c88f-b7b15ba68ded"
      },
      "execution_count": null,
      "outputs": [
        {
          "output_type": "error",
          "ename": "SyntaxError",
          "evalue": "invalid syntax (<ipython-input-3-ca8a525e868f>, line 65)",
          "traceback": [
            "\u001b[0;36m  File \u001b[0;32m\"<ipython-input-3-ca8a525e868f>\"\u001b[0;36m, line \u001b[0;32m65\u001b[0m\n\u001b[0;31m    import pandas as\u001b[0m\n\u001b[0m                    ^\u001b[0m\n\u001b[0;31mSyntaxError\u001b[0m\u001b[0;31m:\u001b[0m invalid syntax\n"
          ]
        }
      ]
    }
  ]
}