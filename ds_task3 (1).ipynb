{
  "nbformat": 4,
  "nbformat_minor": 0,
  "metadata": {
    "colab": {
      "provenance": []
    },
    "kernelspec": {
      "name": "python3",
      "display_name": "Python 3"
    },
    "language_info": {
      "name": "python"
    }
  },
  "cells": [
    {
      "cell_type": "code",
      "source": [
        "\n",
        "import pandas as pd\n",
        "import numpy as np\n",
        "from sklearn.model_selection import train_test_split\n",
        "from sklearn.preprocessing import StandardScaler, LabelEncoder\n",
        "from sklearn.ensemble import RandomForestClassifier\n",
        "from sklearn.linear_model import LogisticRegression\n",
        "from sklearn.metrics import classification_report, accuracy_score, precision_score, recall_score, f1_score\n",
        "\n",
        "# Sample dataset (replace with your actual dataset)\n",
        "data = {\n",
        "    'Age': [25, 45, 22, 35, 29, 34, 50, 28, 40, 32],\n",
        "    'Department': ['Sales', 'HR', 'IT', 'Sales', 'IT', 'HR', 'IT', 'Sales', 'HR', 'IT'],\n",
        "    'YearsAtCompany': [1, 10, 2, 5, 3, 7, 15, 2, 8, 4],\n",
        "    'Salary': [40000, 80000, 45000, 60000, 50000, 75000, 90000, 42000, 70000, 62000],\n",
        "    'LeftCompany': [0, 1, 0, 0, 0, 1, 1, 0, 1, 0]  # Target variable: 1 = Left, 0 = Stayed\n",
        "}\n",
        "\n",
        "# Convert to a DataFrame\n",
        "df = pd.DataFrame(data)\n",
        "\n",
        "# Inspect the dataset\n",
        "print(\"Dataset Overview:\")\n",
        "print(df.head())\n",
        "\n",
        "# Preprocess the dataset\n",
        "# Encode categorical variables\n",
        "encoder = LabelEncoder()\n",
        "df['Department'] = encoder.fit_transform(df['Department'])\n",
        "\n",
        "# Separate features and target\n",
        "X = df.drop('LeftCompany', axis=1)\n",
        "y = df['LeftCompany']\n",
        "\n",
        "# Split the data into training and testing sets\n",
        "X_train, X_test, y_train, y_test = train_test_split(X, y, test_size=0.2, random_state=42)\n",
        "\n",
        "# Scale numerical features\n",
        "scaler = StandardScaler()\n",
        "X_train = scaler.fit_transform(X_train)\n",
        "X_test = scaler.transform(X_test)\n",
        "\n",
        "# Train a Random Forest Classifier\n",
        "rf_model = RandomForestClassifier(random_state=42)\n",
        "rf_model.fit(X_train, y_train)\n",
        "\n",
        "# Train a Logistic Regression Classifier\n",
        "lr_model = LogisticRegression(random_state=42)\n",
        "lr_model.fit(X_train, y_train)\n",
        "\n",
        "# Evaluate both models\n",
        "def evaluate_model(model, X_test, y_test, model_name):\n",
        "    y_pred = model.predict(X_test)\n",
        "    print(f\"Evaluation Metrics for {model_name}:\")\n",
        "    print(f\"Accuracy: {accuracy_score(y_test, y_pred):.2f}\")\n",
        "    print(f\"Precision: {precision_score(y_test, y_pred):.2f}\")\n",
        "    print(f\"Recall: {recall_score(y_test, y_pred):.2f}\")\n",
        "    print(f\"F1 Score: {f1_score(y_test, y_pred):.2f}\")\n",
        "    print(classification_report(y_test, y_pred))\n",
        "\n",
        "# Evaluate Random Forest\n",
        "evaluate_model(rf_model, X_test, y_test, \"Random Forest\")\n",
        "\n",
        "# Evaluate Logistic Regression\n",
        "evaluate_model(lr_model, X_test, y_test, \"Logistic Regression\")\n",
        "import pandas as pd"
      ],
      "metadata": {
        "colab": {
          "base_uri": "https://localhost:8080/"
        },
        "id": "TDlidnxvw2NL",
        "outputId": "d064ed9a-a4dc-4d3e-9ad2-9c072c638913"
      },
      "execution_count": 1,
      "outputs": [
        {
          "output_type": "stream",
          "name": "stdout",
          "text": [
            "Dataset Overview:\n",
            "   Age Department  YearsAtCompany  Salary  LeftCompany\n",
            "0   25      Sales               1   40000            0\n",
            "1   45         HR              10   80000            1\n",
            "2   22         IT               2   45000            0\n",
            "3   35      Sales               5   60000            0\n",
            "4   29         IT               3   50000            0\n",
            "Evaluation Metrics for Random Forest:\n",
            "Accuracy: 1.00\n",
            "Precision: 1.00\n",
            "Recall: 1.00\n",
            "F1 Score: 1.00\n",
            "              precision    recall  f1-score   support\n",
            "\n",
            "           1       1.00      1.00      1.00         2\n",
            "\n",
            "    accuracy                           1.00         2\n",
            "   macro avg       1.00      1.00      1.00         2\n",
            "weighted avg       1.00      1.00      1.00         2\n",
            "\n",
            "Evaluation Metrics for Logistic Regression:\n",
            "Accuracy: 1.00\n",
            "Precision: 1.00\n",
            "Recall: 1.00\n",
            "F1 Score: 1.00\n",
            "              precision    recall  f1-score   support\n",
            "\n",
            "           1       1.00      1.00      1.00         2\n",
            "\n",
            "    accuracy                           1.00         2\n",
            "   macro avg       1.00      1.00      1.00         2\n",
            "weighted avg       1.00      1.00      1.00         2\n",
            "\n"
          ]
        }
      ]
    }
  ]
}